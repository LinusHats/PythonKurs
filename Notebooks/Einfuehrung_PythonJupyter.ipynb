{
 "cells": [
  {
   "cell_type": "markdown",
   "id": "6c9ad033",
   "metadata": {
    "slideshow": {
     "slide_type": "slide"
    }
   },
   "source": [
    "# Eine kleine Einführung in die Programmierung mit Python\n",
    "## (Und Jupyter Notebooks)\n",
    "----"
   ]
  },
  {
   "cell_type": "markdown",
   "id": "d5288f94",
   "metadata": {
    "slideshow": {
     "slide_type": "slide"
    }
   },
   "source": [
    "### Einführung \n",
    "    - Was ist das eigentlich, Python?\n",
    "    - Was hat Jupyter damit zutun\n",
    "### Beispiele \n",
    "\n",
    "### Hands-On\n",
    "    - Aufgaben zum Einlesen und Verarbeiten von Daten (DataScience)"
   ]
  },
  {
   "cell_type": "markdown",
   "id": "d9436c0f",
   "metadata": {
    "slideshow": {
     "slide_type": "slide"
    }
   },
   "source": [
    "### Was ist eigentlich Python\n",
    ">Python ([ˈpʰaɪθn̩], [ˈpʰaɪθɑn], auf Deutsch auch [ˈpʰyːtɔn]) ist eine **universelle**, üblicherweise **interpretierte**, **höhere Programmiersprache**.[12] Sie hat den Anspruch, einen _gut lesbaren_, _knappen_ Programmierstil zu fördern.[13] <br>\n",
    ">-- Wikipedia (https://de.wikipedia.org/wiki/Python_(Programmiersprache) [08.02.2023]\n"
   ]
  },
  {
   "cell_type": "markdown",
   "id": "0501ed01",
   "metadata": {
    "slideshow": {
     "slide_type": "subslide"
    }
   },
   "source": [
    "1. Universell:\n",
    "    - Kann sowohl für einfache Aufgaben verwendet werden (Daten visualisierung etc.), als auch für komplexe Programme (Simulation von Enegiesystemen, Robotersteuerung ...)\n"
   ]
  },
  {
   "cell_type": "markdown",
   "id": "d35ea50c",
   "metadata": {
    "slideshow": {
     "slide_type": "subslide"
    }
   },
   "source": [
    "2. Interpretiert\n",
    "    - Anweisungen werden direkt ausgeführt\n",
    "        + JavaSript\n",
    "        + Bash\n",
    "        + Julia\n",
    "    - Unterschied zu compilierten Sprachen, die vor Ausführung in Maschinensprache übersetzt (Compiliert) werden\n",
    "        + Java (Kotlin)\n",
    "        + C (C++/Objective-C/C#)\n",
    "        + Fortran..."
   ]
  },
  {
   "cell_type": "markdown",
   "id": "832d53bd",
   "metadata": {
    "slideshow": {
     "slide_type": "subslide"
    }
   },
   "source": [
    "3. Höhere Programmiersprache\n",
    "    - Befehle werden nicht direkt von (Mikro)Prozessoren verstanden und müssen compiliert werden \n",
    "    - Komplexere Vorgänge werden Abstrahiert --> einfachere und kürzere Syntax (*höhere Abstraktion*)"
   ]
  },
  {
   "cell_type": "markdown",
   "id": "1410c435",
   "metadata": {
    "slideshow": {
     "slide_type": "subslide"
    }
   },
   "source": [
    "- Gut Lesbar & - Knapp\n",
    "\n",
    "_____\n",
    "````python\n",
    "hallo_welt = \"Hallo Welt\"\n",
    "for i in range(15):\n",
    "    print(hallo_welt)\n",
    "````\n",
    "_____\n",
    "    \n",
    "````C\n",
    "int main(void) {\n",
    "    String halloWelt = \"Hallo Welt\";\n",
    "    for (int i = 0; i<15; i++) {\n",
    "        printf(halloWelt + \"\\n\");\n",
    "    }\n",
    "    return 0;\n",
    "}\n",
    "````\n",
    "_____"
   ]
  },
  {
   "cell_type": "markdown",
   "id": "07944dc7",
   "metadata": {
    "slideshow": {
     "slide_type": "slide"
    }
   },
   "source": [
    "### Was ist Jupyter\n",
    "- Open Source Framework für Notebooks \n",
    "    - Notebooks sind zellbasierte Code- und \"Erklärblöcke\"\n",
    "    \n",
    "#### Codeblock\n",
    "- Möglichkeit in einzelen Blöcken Programme/Scrpte auzuführen und die Ausgaben in ein \"Dokument\" einzbinden\n",
    "\n",
    "#### Erklärblock\n",
    "- Möglichkeit von prosa Erläuterungen \n",
    "    - LaTeX, Markdown, HTML (CSS)"
   ]
  },
  {
   "cell_type": "markdown",
   "id": "183a566b",
   "metadata": {
    "slideshow": {
     "slide_type": "slide"
    }
   },
   "source": [
    "# 🫵🫵🫵Action: Installation Anaconda\n",
    "https://www.anaconda.com/"
   ]
  },
  {
   "cell_type": "markdown",
   "id": "b1c5183f",
   "metadata": {
    "slideshow": {
     "slide_type": "slide"
    }
   },
   "source": [
    "# How to Python"
   ]
  },
  {
   "cell_type": "markdown",
   "id": "eb284509",
   "metadata": {
    "slideshow": {
     "slide_type": "subslide"
    }
   },
   "source": [
    "# How to Python\n",
    "\n",
    "1. Zahlen (Integer (int), Floats (float))\n",
    "\n",
    "````python\n",
    "integer_1 = 5\n",
    "integer_2 = 3\n",
    "    \n",
    "float_1 = 5.\n",
    "float_2 = 3.\n",
    "````\n"
   ]
  },
  {
   "cell_type": "markdown",
   "id": "6e8f1d8d",
   "metadata": {
    "slideshow": {
     "slide_type": "subslide"
    }
   },
   "source": [
    "# How to Python\n",
    "\n",
    "2. Wörter, Sätze, ... (Zeichenketten (str))\n",
    "\n",
    "````python\n",
    "string_1 = \"a\" = 'a'\n",
    "string_2 = \"Buchstabe\" = 'Buchstabe'\n",
    "````\n"
   ]
  },
  {
   "cell_type": "markdown",
   "id": "c90fb44a",
   "metadata": {},
   "source": [
    "# How to Python\n",
    "\n",
    "3. Booleans\n",
    "\n",
    "````python\n",
    "boolean_1 = True\n",
    "boolean_2 = False\n",
    "````\n"
   ]
  },
  {
   "cell_type": "markdown",
   "id": "53f95c45",
   "metadata": {
    "slideshow": {
     "slide_type": "subslide"
    }
   },
   "source": [
    "# How to Python\n",
    "\n",
    "4. Listen \n",
    "\n",
    "````python\n",
    "liste_1 = [1,2,3,4,5]\n",
    "liste_2 = [\"a\",\"b\",\"c\",\"d\",\"b\"]\n",
    "````\n"
   ]
  },
  {
   "cell_type": "markdown",
   "id": "ba2bf5da",
   "metadata": {
    "slideshow": {
     "slide_type": "subslide"
    }
   },
   "source": [
    "# How to Python\n",
    "\n",
    "5. Dictionaries\n",
    "\n",
    "````python\n",
    "dictionary_1 = {\"Hund\": \"Tier\", \n",
    "                \"Katze\": \"Tier\", \n",
    "                \"Python\": \"Programmiersprache\"}\n",
    "dictionary_2 = {\"eins\": 1,\n",
    "                \"zwei\": 2,\n",
    "                \"drei\": 3}\n",
    "````"
   ]
  },
  {
   "cell_type": "markdown",
   "id": "dfdc39a6",
   "metadata": {
    "slideshow": {
     "slide_type": "subslide"
    }
   },
   "source": [
    "# How to Python\n",
    "\n",
    "6. Schleifen (for, while)\n",
    "\n",
    "````python\n",
    "for i in range(5):\n",
    "    print(\"{i = }\")\n",
    "\n",
    "i = 0\n",
    "while i<=5:\n",
    "    print(\"{i = }\")\n",
    "    i = i+1\n",
    "````"
   ]
  },
  {
   "cell_type": "markdown",
   "id": "b1690eb9",
   "metadata": {
    "slideshow": {
     "slide_type": "subslide"
    }
   },
   "source": [
    "# How to Python\n",
    "\n",
    "7. Funktionen\n",
    "\n",
    "````python\n",
    "def f(x, a,b,c):\n",
    "    return a*x**2 + b*x + c\n",
    "\n",
    "def get_first_two_characters_from_string(s):\n",
    "    return string[0:2]\n",
    "\n",
    "def is_greater_then(value, compare_to):\n",
    "    return value > compare_to\n",
    "````"
   ]
  },
  {
   "cell_type": "markdown",
   "id": "8c5f0a29",
   "metadata": {
    "slideshow": {
     "slide_type": "subslide"
    }
   },
   "source": [
    "# How to Python\n",
    "8. Operatoren\n",
    "    - Addition, Subtraktion ```a+b``` ```a-b```\n",
    "    - Multiplikation, Division ```a*b``` ```a/b```\n",
    "    - Potenzieren ```a**b``` **NICHT ```^```** (Das ist ein Bitoperator...)"
   ]
  },
  {
   "cell_type": "code",
   "execution_count": 1,
   "id": "e0e51a9f",
   "metadata": {
    "slideshow": {
     "slide_type": "fragment"
    }
   },
   "outputs": [
    {
     "name": "stdout",
     "output_type": "stream",
     "text": [
      "a+b  = 15\n",
      "a-b  = -5\n",
      "a*b  = 50\n",
      "a/b  = 0.5\n",
      "a**b = 9765625\n",
      "a^b  = 15\n"
     ]
    }
   ],
   "source": [
    "a = 5\n",
    "b = 10\n",
    "print(\"a+b  =\", a+b)\n",
    "print(\"a-b  =\", a-b)\n",
    "print(\"a*b  =\", a*b)\n",
    "print(\"a/b  =\", a/b)\n",
    "print(\"a**b =\", a**b)\n",
    "print(\"a^b  =\", a^b)"
   ]
  },
  {
   "cell_type": "markdown",
   "id": "3f0ab53f",
   "metadata": {
    "slideshow": {
     "slide_type": "subslide"
    }
   },
   "source": [
    "# How to Python\n",
    "9. Logische Operatoren\n",
    "    - Gleich ``` ==, is```\n",
    "    - Ungleich ```!=, is not```\n",
    "    - Größer ```>```, Größer Gleich ```>=```\n",
    "    - Und, Oder, Nicht ``` (&,and); (|,or) ; not```"
   ]
  },
  {
   "cell_type": "markdown",
   "id": "1f52cd74",
   "metadata": {
    "slideshow": {
     "slide_type": "slide"
    }
   },
   "source": [
    "# Beispiel\n",
    "## Sieb des Eratosthenes\n",
    "| 1  | 2 | 3 | 4 | 5 | 6 | 7 | 8 | 9 | 10 |\n",
    "|----|----|---|---|---|---|---|---|---|----|\n",
    "|11|12|13|14|15|16|17|18|19|20|\n",
    "|21|22|23|24|25|26|27|28|29|30|\n",
    "|31|32|33|34|35|36|37|38|39|40|\n",
    "|41|42|43|44|45|46|47|48|49|50|\n",
    "|51|52|53|54|55|56|57|58|59|60|\n",
    "|61|62|63|64|65|66|67|68|69|70|\n",
    "|71|72|73|74|75|76|77|78|79|80|\n",
    "|81|82|83|84|85|86|87|88|89|90|\n",
    "|91|92|93|94|95|96|97|98|99|100|\n",
    "\n",
    "______\n",
    "\n",
    "|~~1~~| 2 | 3 |~~4~~| 5 |~~6~~| 7 |~~8~~|~~9~~|~~10~~|\n",
    "|-----|-----|---|---|-----|---|-----|---|-----|-----|\n",
    "|11|~~12~~|13|~~14~~|~~15~~|~~16~~|17|~~18~~|19|~~20~~|\n",
    "|~~21~~|~~22~~|23|~~24~~|~~25~~|~~26~~|~~27~~|~~28~~|29|~~30~~|\n",
    "|31|~~32~~|~~33~~|~~34~~|~~35~~|~~36~~|37|~~38~~|~~39~~|~~40~~|\n",
    "|41|~~42~~|43|~~44~~|~~45~~|~~46~~|47|~~48~~|~~49~~|~~50~~|\n",
    "|~~51~~|~~52~~|53|~~54~~|~~55~~|~~56~~|~~57~~|~~58~~|59|~~60~~|\n",
    "|61|~~62~~|~~63~~|~~64~~|~~65~~|~~66~~|67|~~68~~|~~69~~|~~70~~|\n",
    "|71|~~72~~|73|~~74~~|~~75~~|~~76~~|~~77~~|~~78~~|79|~~80~~|\n",
    "|~~81~~|~~82~~|83|~~84~~|~~85~~|~~86~~|~~87~~|~~88~~|89|~~90~~|\n",
    "|~~91~~|~~92~~|~~93~~|~~94~~|~~95~~|~~96~~|97|~~98~~|~~99~~|~~100~~|"
   ]
  },
  {
   "cell_type": "code",
   "execution_count": 2,
   "id": "59727de6",
   "metadata": {
    "slideshow": {
     "slide_type": "subslide"
    }
   },
   "outputs": [
    {
     "name": "stdout",
     "output_type": "stream",
     "text": [
      "[2, 3, 5, 7, 11, 13, 17, 19, 23, 29, 31, 37, 41, 43, 47, 53, 59, 61, 67, 71, 73, 79, 83, 89, 97, 101, 103, 107, 109, 113, 127, 131, 137, 139, 149, 151, 157, 163, 167, 173, 179, 181, 191, 193, 197, 199, 211, 223, 227, 229, 233, 239, 241, 251, 257, 263, 269, 271, 277, 281, 283, 293, 307, 311, 313, 317, 331, 337, 347, 349, 353, 359, 367, 373, 379, 383, 389, 397, 401, 409, 419, 421, 431, 433, 439, 443, 449, 457, 461, 463, 467, 479, 487, 491, 499]\n"
     ]
    }
   ],
   "source": [
    "n = 500\n",
    "primes = [True for i in range(n + 1)]\n",
    "p = 2\n",
    "while p*p <= n:\n",
    "    if primes[p] == True:\n",
    "        for i in range(p*p, n+1, p): # erste Iteration: 4,6,...,98,100\n",
    "            primes[i] = False\n",
    "    p += 1\n",
    "primes = [p for p in range(2, n + 1) if primes[p]]\n",
    "print(primes)"
   ]
  },
  {
   "cell_type": "markdown",
   "id": "cad5ef5c",
   "metadata": {
    "slideshow": {
     "slide_type": "slide"
    }
   },
   "source": [
    "# Zusatzbibliotheken\n",
    "- ```matplotlib``` Visualisierung, angelehnt an Matlab Syntax\n",
    "- ```numpy``` \"Numerisches Python\": Objekte, angelehnt an Fortran und C\n",
    "- ```pandas``` \"Excel Funktionalität\": Einlesen von Datensätzen, Sortieren, Filtern etc.\n",
    "- ```scipy``` \"Scientific Python\": Curve fit, fsolve, integrate, splines etc..."
   ]
  },
  {
   "cell_type": "code",
   "execution_count": 3,
   "id": "e62745c7",
   "metadata": {},
   "outputs": [
    {
     "data": {
      "text/plain": [
       "Text(0, 0.5, '$\\\\sin(x)$')"
      ]
     },
     "execution_count": 3,
     "metadata": {},
     "output_type": "execute_result"
    },
    {
     "data": {
      "image/png": "[encoded data removed]",
      "text/plain": [
       "<Figure size 640x480 with 1 Axes>"
      ]
     },
     "metadata": {},
     "output_type": "display_data"
    }
   ],
   "source": [
    "import numpy as np\n",
    "import matplotlib.pyplot as plt\n",
    "\n",
    "x = np.linspace(0,10,100)\n",
    "y = np.sin(x)\n",
    "\n",
    "plt.plot(x,y,\"o-\")\n",
    "plt.xlabel(\"x\")\n",
    "plt.ylabel(r\"$\\sin(x)$\")"
   ]
  },
  {
   "cell_type": "markdown",
   "id": "b42cdda6",
   "metadata": {
    "slideshow": {
     "slide_type": "slide"
    }
   },
   "source": [
    "### Interaktives Beispiel mit ipython widgets\n",
    "\\begin{equation}\n",
    "    y = \\hat{y} \\cdot \\cos{(\\omega\\cdot t + \\varphi)}\n",
    "\\end{equation}"
   ]
  },
  {
   "cell_type": "code",
   "execution_count": 4,
   "id": "5a8cfebb",
   "metadata": {
    "scrolled": false,
    "slideshow": {
     "slide_type": "fragment"
    }
   },
   "outputs": [
    {
     "data": {
      "application/vnd.jupyter.widget-view+json": {
       "model_id": "64a5b89f0cdf4eacbef13da396ee6a90",
       "version_major": 2,
       "version_minor": 0
      },
      "text/plain": [
       "interactive(children=(FloatSlider(value=1.0, description='y_hat', max=3.0, min=1.0), FloatSlider(value=1.0, de…"
      ]
     },
     "metadata": {},
     "output_type": "display_data"
    },
    {
     "data": {
      "text/plain": [
       "<function __main__.f(y_hat, omega, phi)>"
      ]
     },
     "execution_count": 4,
     "metadata": {},
     "output_type": "execute_result"
    }
   ],
   "source": [
    "import ipywidgets as widgets\n",
    " \n",
    "t = np.linspace(0,10, 200)\n",
    "def f(y_hat, omega, phi):\n",
    "    values = y_hat * np.sin(omega * t + phi)\n",
    "    plt.plot(t,values, \"g-\")\n",
    "    plt.plot(t,np.sin(t), \"r--\")\n",
    "    plt.xlabel(\"t in s\")\n",
    "    plt.ylabel(r\"y in cm\")\n",
    "    plt.xlim((0,10))\n",
    "    plt.ylim((-5,5))\n",
    "    plt.legend([r\"$y = \\hat{y} \\cdot \\sin{(\\omega\\cdot t +\\varphi)}$\", r\"$y = \\sin{(t)}$\"])\n",
    "    \n",
    "widgets.interact(f,\n",
    "                 y_hat=widgets.FloatSlider(min=1.0, max=3.0, value=1, description=\"y_hat\"),\n",
    "                 omega=widgets.FloatSlider(min=0.2, max=2.6, value=1, description=\"omega\"),\n",
    "                 phi=widgets.FloatSlider(min=-3., max=3.0, value=0, description=\"phi\"))"
   ]
  },
  {
   "cell_type": "markdown",
   "id": "ccec2b9d",
   "metadata": {
    "slideshow": {
     "slide_type": "slide"
    }
   },
   "source": [
    "# Wechsel zu McCabe Thiele!"
   ]
  },
  {
   "cell_type": "markdown",
   "id": "21fab483",
   "metadata": {
    "slideshow": {
     "slide_type": "slide"
    }
   },
   "source": [
    "# 🫵🫵🫵 Hello World\n",
    "als Funktion, die \"Hallo Welt\" als return Value zurückgibt und zwei Worte als Argumente bekommt \"Hallo\" und \"Welt\""
   ]
  },
  {
   "cell_type": "markdown",
   "id": "4a8da9e5",
   "metadata": {
    "slideshow": {
     "slide_type": "slide"
    }
   },
   "source": [
    "# 🫵🫵🫵 Einlesen einer Datei (CSV) + Darstellung\n",
    "(Temperaturregelung)"
   ]
  },
  {
   "cell_type": "markdown",
   "id": "565dd8a3",
   "metadata": {
    "slideshow": {
     "slide_type": "slide"
    }
   },
   "source": [
    "# 🫵🫵🫵 Linearer Fit\n",
    "- Wein Datensatz\n",
    "- Lernzeiten Datensatz\n",
    "- Korngrößenverteilung Sand vs. Böschungswinkel"
   ]
  }
 ],
 "metadata": {
  "celltoolbar": "Slideshow",
  "kernelspec": {
   "display_name": "Python 3 (ipykernel)",
   "language": "python",
   "name": "python3"
  },
  "language_info": {
   "codemirror_mode": {
    "name": "ipython",
    "version": 3
   },
   "file_extension": ".py",
   "mimetype": "text/x-python",
   "name": "python",
   "nbconvert_exporter": "python",
   "pygments_lexer": "ipython3",
   "version": "3.9.13"
  }
 },
 "nbformat": 4,
 "nbformat_minor": 5
}
